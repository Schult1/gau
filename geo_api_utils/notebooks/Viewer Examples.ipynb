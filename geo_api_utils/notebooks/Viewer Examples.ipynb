{
 "cells": [
  {
   "cell_type": "markdown",
   "metadata": {},
   "source": [
    "## How to work with the Viewer\n",
    "This notebook shows some examples how you create nice maps with help of the geo_api_utils package."
   ]
  },
  {
   "cell_type": "code",
   "execution_count": null,
   "metadata": {},
   "outputs": [],
   "source": [
    "import pandas as pd\n",
    "import numpy as np\n",
    "\n",
    "from geo_api_utils.api import here, inrix\n",
    "from geo_api_utils.viewer import maps "
   ]
  },
  {
   "cell_type": "code",
   "execution_count": null,
   "metadata": {},
   "outputs": [],
   "source": [
    "# Point of Interest\n",
    "loc = (40.784401,-74.035705)\n",
    "\n",
    "# Init here api and get all congestions incidents in 10 km radius around point\n",
    "api = here.ApiCall()\n",
    "jn = api.call_traffic('incidents', prox = '{},{},10000'.format(loc[0], loc[1]), type='Congestion')"
   ]
  },
  {
   "cell_type": "code",
   "execution_count": null,
   "metadata": {},
   "outputs": [],
   "source": [
    "# show incidents at map\n",
    "maps.show_incidents((40.784401, -74.035705), jn, 'here')"
   ]
  }
 ],
 "metadata": {
  "kernelspec": {
   "display_name": "Python 3",
   "language": "python",
   "name": "python3"
  },
  "language_info": {
   "codemirror_mode": {
    "name": "ipython",
    "version": 3
   },
   "file_extension": ".py",
   "mimetype": "text/x-python",
   "name": "python",
   "nbconvert_exporter": "python",
   "pygments_lexer": "ipython3",
   "version": "3.6.5"
  }
 },
 "nbformat": 4,
 "nbformat_minor": 2
}
